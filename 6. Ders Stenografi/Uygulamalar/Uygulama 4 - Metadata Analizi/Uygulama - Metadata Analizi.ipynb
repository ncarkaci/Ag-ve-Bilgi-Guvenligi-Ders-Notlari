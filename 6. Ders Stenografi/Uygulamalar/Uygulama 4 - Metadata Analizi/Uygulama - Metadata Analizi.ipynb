{
 "cells": [
  {
   "cell_type": "markdown",
   "metadata": {},
   "source": [
    "## AMAÇ :"
   ]
  },
  {
   "cell_type": "markdown",
   "metadata": {},
   "source": [
    "Resim, müzik, video gibi dosya türlerine ait üst veri (metadata) bilgi alanın kullanımı hakkında bilgilendirmektir."
   ]
  },
  {
   "cell_type": "markdown",
   "metadata": {},
   "source": [
    "## SÜRE : "
   ]
  },
  {
   "cell_type": "markdown",
   "metadata": {},
   "source": [
    "20 dakika"
   ]
  },
  {
   "cell_type": "markdown",
   "metadata": {},
   "source": [
    "## ÖNBİLGİ :"
   ]
  },
  {
   "cell_type": "markdown",
   "metadata": {},
   "source": [
    "Eksik"
   ]
  },
  {
   "cell_type": "markdown",
   "metadata": {},
   "source": [
    "## UYGULAMA :"
   ]
  },
  {
   "cell_type": "markdown",
   "metadata": {},
   "source": [
    "### A. Uygulama öncesi yapılacaklar :"
   ]
  },
  {
   "cell_type": "markdown",
   "metadata": {},
   "source": [
    "sudo apt-get install exiftool"
   ]
  },
  {
   "cell_type": "markdown",
   "metadata": {},
   "source": [
    "### B. Uygulamanın Yapılışı:"
   ]
  },
  {
   "cell_type": "markdown",
   "metadata": {},
   "source": [
    "#### a. Aşağıda tanımlı komutları kullanarak resim dosyalarına ait metadata bilgilerini elde edin."
   ]
  },
  {
   "cell_type": "code",
   "execution_count": 8,
   "metadata": {
    "collapsed": false
   },
   "outputs": [
    {
     "name": "stdout",
     "output_type": "stream",
     "text": [
      "ExifTool Version Number         : 10.10\r\n",
      "File Name                       : original.jpeg\r\n",
      "Directory                       : .\r\n",
      "File Size                       : 498 bytes\r\n",
      "File Modification Date/Time     : 2016:12:14 03:41:44+03:00\r\n",
      "File Access Date/Time           : 2016:12:14 19:19:11+03:00\r\n",
      "File Inode Change Date/Time     : 2016:12:14 19:19:11+03:00\r\n",
      "File Permissions                : rw-rw-r--\r\n",
      "File Type                       : JPEG\r\n",
      "File Type Extension             : jpg\r\n",
      "MIME Type                       : image/jpeg\r\n",
      "JFIF Version                    : 1.01\r\n",
      "Resolution Unit                 : None\r\n",
      "X Resolution                    : 1\r\n",
      "Y Resolution                    : 1\r\n",
      "Image Width                     : 16\r\n",
      "Image Height                    : 16\r\n",
      "Encoding Process                : Baseline DCT, Huffman coding\r\n",
      "Bits Per Sample                 : 8\r\n",
      "Color Components                : 3\r\n",
      "Y Cb Cr Sub Sampling            : YCbCr4:4:4 (1 1)\r\n",
      "Image Size                      : 16x16\r\n",
      "Megapixels                      : 0.000256\r\n"
     ]
    }
   ],
   "source": [
    "! exiftool original.jpeg"
   ]
  },
  {
   "cell_type": "code",
   "execution_count": 7,
   "metadata": {
    "collapsed": false
   },
   "outputs": [
    {
     "name": "stdout",
     "output_type": "stream",
     "text": [
      "ExifTool Version Number         : 10.10\r\n",
      "File Name                       : resim.jpg\r\n",
      "Directory                       : .\r\n",
      "File Size                       : 2.3 MB\r\n",
      "File Modification Date/Time     : 2016:12:14 02:25:20+03:00\r\n",
      "File Access Date/Time           : 2016:12:14 19:16:10+03:00\r\n",
      "File Inode Change Date/Time     : 2016:12:14 19:15:33+03:00\r\n",
      "File Permissions                : rw-rw-r--\r\n",
      "File Type                       : JPEG\r\n",
      "File Type Extension             : jpg\r\n",
      "MIME Type                       : image/jpeg\r\n",
      "Exif Byte Order                 : Big-endian (Motorola, MM)\r\n",
      "Modify Date                     : 2016:05:14 22:21:49\r\n",
      "GPS Date Stamp                  : 2016:05:14\r\n",
      "GPS Altitude Ref                : Above Sea Level\r\n",
      "GPS Longitude Ref               : East\r\n",
      "GPS Latitude Ref                : North\r\n",
      "GPS Time Stamp                  : 19:21:44\r\n",
      "Camera Model Name               : Nexus 5\r\n",
      "Y Cb Cr Positioning             : Centered\r\n",
      "Resolution Unit                 : inches\r\n",
      "Y Resolution                    : 72\r\n",
      "Orientation                     : Horizontal (normal)\r\n",
      "Color Space                     : sRGB\r\n",
      "Create Date                     : 2016:05:14 22:21:49\r\n",
      "F Number                        : 2.4\r\n",
      "Focal Length                    : 4.0 mm\r\n",
      "Aperture Value                  : 2.4\r\n",
      "White Balance                   : Auto\r\n",
      "Exif Image Width                : 2448\r\n",
      "Sub Sec Time                    : 528093\r\n",
      "Shutter Speed Value             : 17\r\n",
      "Date/Time Original              : 2016:05:14 22:21:49\r\n",
      "Sub Sec Time Digitized          : 528093\r\n",
      "Components Configuration        : Y, Cb, Cr, -\r\n",
      "Exif Image Height               : 3264\r\n",
      "Flash                           : No Flash\r\n",
      "Exif Version                    : 0220\r\n",
      "Interoperability Index          : R98 - DCF basic file (sRGB)\r\n",
      "Interoperability Version        : 0100\r\n",
      "ISO                             : 1940\r\n",
      "Flashpix Version                : 0100\r\n",
      "Sub Sec Time Original           : 528093\r\n",
      "Exposure Time                   : 1/17\r\n",
      "X Resolution                    : 72\r\n",
      "Make                            : LGE\r\n",
      "Thumbnail Length                : 34242\r\n",
      "Thumbnail Offset                : 878\r\n",
      "Compression                     : JPEG (old-style)\r\n",
      "JFIF Version                    : 1.01\r\n",
      "Profile CMM Type                : \r\n",
      "Profile Version                 : 2.0.0\r\n",
      "Profile Class                   : Display Device Profile\r\n",
      "Color Space Data                : RGB\r\n",
      "Profile Connection Space        : XYZ\r\n",
      "Profile Date Time               : 2009:03:27 21:36:31\r\n",
      "Profile File Signature          : acsp\r\n",
      "Primary Platform                : Unknown ()\r\n",
      "CMM Flags                       : Not Embedded, Independent\r\n",
      "Device Manufacturer             : \r\n",
      "Device Model                    : \r\n",
      "Device Attributes               : Reflective, Glossy, Positive, Color\r\n",
      "Rendering Intent                : Perceptual\r\n",
      "Connection Space Illuminant     : 0.9642 1 0.82491\r\n",
      "Profile Creator                 : \r\n",
      "Profile ID                      : 29f83ddeaff255ae7842fae4ca83390d\r\n",
      "Profile Description             : sRGB IEC61966-2-1 black scaled\r\n",
      "Blue Matrix Column              : 0.14307 0.06061 0.7141\r\n",
      "Blue Tone Reproduction Curve    : (Binary data 2060 bytes, use -b option to extract)\r\n",
      "Device Model Desc               : IEC 61966-2-1 Default RGB Colour Space - sRGB\r\n",
      "Green Matrix Column             : 0.38515 0.71687 0.09708\r\n",
      "Green Tone Reproduction Curve   : (Binary data 2060 bytes, use -b option to extract)\r\n",
      "Luminance                       : 0 80 0\r\n",
      "Measurement Observer            : CIE 1931\r\n",
      "Measurement Backing             : 0 0 0\r\n",
      "Measurement Geometry            : Unknown\r\n",
      "Measurement Flare               : 0%\r\n",
      "Measurement Illuminant          : D65\r\n",
      "Media Black Point               : 0.01205 0.0125 0.01031\r\n",
      "Red Matrix Column               : 0.43607 0.22249 0.01392\r\n",
      "Red Tone Reproduction Curve     : (Binary data 2060 bytes, use -b option to extract)\r\n",
      "Technology                      : Cathode Ray Tube Display\r\n",
      "Viewing Cond Desc               : Reference Viewing Condition in IEC 61966-2-1\r\n",
      "Media White Point               : 0.9642 1 0.82491\r\n",
      "Profile Copyright               : Copyright International Color Consortium, 2009\r\n",
      "Chromatic Adaptation            : 1.04791 0.02293 -0.0502 0.0296 0.99046 -0.01707 -0.00925 0.01506 0.75179\r\n",
      "Image Width                     : 2448\r\n",
      "Image Height                    : 3264\r\n",
      "Encoding Process                : Baseline DCT, Huffman coding\r\n",
      "Bits Per Sample                 : 8\r\n",
      "Color Components                : 3\r\n",
      "Y Cb Cr Sub Sampling            : YCbCr4:2:0 (2 2)\r\n",
      "Aperture                        : 2.4\r\n",
      "GPS Altitude                    : 30 m Above Sea Level\r\n",
      "GPS Date/Time                   : 2016:05:14 19:21:44Z\r\n",
      "GPS Latitude                    : 40 deg 27' 49.57\" N\r\n",
      "GPS Longitude                   : 29 deg 6' 27.42\" E\r\n",
      "GPS Position                    : 40 deg 27' 49.57\" N, 29 deg 6' 27.42\" E\r\n",
      "Image Size                      : 2448x3264\r\n",
      "Megapixels                      : 8.0\r\n",
      "Shutter Speed                   : 1/17\r\n",
      "Create Date                     : 2016:05:14 22:21:49.528093\r\n",
      "Date/Time Original              : 2016:05:14 22:21:49.528093\r\n",
      "Modify Date                     : 2016:05:14 22:21:49.528093\r\n",
      "Thumbnail Image                 : (Binary data 34242 bytes, use -b option to extract)\r\n",
      "Focal Length                    : 4.0 mm\r\n",
      "Light Value                     : 2.3\r\n"
     ]
    }
   ],
   "source": [
    "! exiftool resim.jpg "
   ]
  },
  {
   "cell_type": "markdown",
   "metadata": {},
   "source": [
    "#### b. Aşağıda tanımlı komutları kullanarak resim dosyasının metadata kısmına yorum ekleyin."
   ]
  },
  {
   "cell_type": "code",
   "execution_count": 11,
   "metadata": {
    "collapsed": false
   },
   "outputs": [
    {
     "name": "stdout",
     "output_type": "stream",
     "text": [
      "    1 image files updated\r\n"
     ]
    }
   ],
   "source": [
    "! exiftool -Comment=\"eklenen metin\" resim.jpg"
   ]
  },
  {
   "cell_type": "code",
   "execution_count": 12,
   "metadata": {
    "collapsed": false
   },
   "outputs": [
    {
     "name": "stdout",
     "output_type": "stream",
     "text": [
      "Comment                         : eklenen metin\r\n"
     ]
    }
   ],
   "source": [
    "! exiftool resim.jpg |grep Comment"
   ]
  },
  {
   "cell_type": "markdown",
   "metadata": {},
   "source": [
    "#### c. Aşağıda tanımlı komutları kullanarak resim dosyasının GPS lokasyonunu kendi lokasyonunuz olarak değiştirin."
   ]
  },
  {
   "cell_type": "code",
   "execution_count": 13,
   "metadata": {
    "collapsed": false
   },
   "outputs": [
    {
     "name": "stdout",
     "output_type": "stream",
     "text": [
      "Warning: [minor] Entries in IFD0 were out of sequence. Fixed. - resim.jpg\r\n",
      "    1 image files updated\r\n"
     ]
    }
   ],
   "source": [
    "! exiftool -GPSLongitude=\"29.36705589999997\" -GPSLatitude=\"40.8091158\" resim.jpg"
   ]
  },
  {
   "cell_type": "code",
   "execution_count": 15,
   "metadata": {
    "collapsed": false
   },
   "outputs": [
    {
     "name": "stdout",
     "output_type": "stream",
     "text": [
      "GPS Longitude Ref               : East\r\n",
      "GPS Longitude                   : 29 deg 22' 1.40\" E\r\n"
     ]
    }
   ],
   "source": [
    "! exiftool resim.jpg |grep Longitude"
   ]
  },
  {
   "cell_type": "code",
   "execution_count": 16,
   "metadata": {
    "collapsed": false
   },
   "outputs": [
    {
     "name": "stdout",
     "output_type": "stream",
     "text": [
      "GPS Latitude Ref                : North\r\n",
      "GPS Latitude                    : 40 deg 48' 32.82\" N\r\n"
     ]
    }
   ],
   "source": [
    "! exiftool resim.jpg |grep Latitude"
   ]
  },
  {
   "cell_type": "markdown",
   "metadata": {},
   "source": [
    "#### d. Aşağıda tanımlı komutları kullanarak farklı formattaki müzik ve video dosyalarına ait metadata verilerini elde edin."
   ]
  },
  {
   "cell_type": "code",
   "execution_count": 1,
   "metadata": {
    "collapsed": false
   },
   "outputs": [
    {
     "name": "stdout",
     "output_type": "stream",
     "text": [
      "ExifTool Version Number         : 10.10\r\n",
      "File Name                       : music.mp3\r\n",
      "Directory                       : .\r\n",
      "File Size                       : 154 kB\r\n",
      "File Modification Date/Time     : 2016:12:14 02:25:20+03:00\r\n",
      "File Access Date/Time           : 2016:12:14 23:31:04+03:00\r\n",
      "File Inode Change Date/Time     : 2016:12:14 23:31:04+03:00\r\n",
      "File Permissions                : rw-rw-r--\r\n",
      "File Type                       : MP3\r\n",
      "File Type Extension             : mp3\r\n",
      "MIME Type                       : audio/mpeg\r\n",
      "MPEG Audio Version              : 1\r\n",
      "Audio Layer                     : 3\r\n",
      "Audio Bitrate                   : 64 kbps\r\n",
      "Sample Rate                     : 44100\r\n",
      "Channel Mode                    : Stereo\r\n",
      "MS Stereo                       : Off\r\n",
      "Intensity Stereo                : Off\r\n",
      "Copyright Flag                  : False\r\n",
      "Original Media                  : False\r\n",
      "Emphasis                        : None\r\n",
      "ID3 Size                        : 45\r\n",
      "Encoder Settings                : Lavf57.36.100\r\n",
      "Duration                        : 19.72 s (approx)\r\n"
     ]
    }
   ],
   "source": [
    "! exiftool music.mp3"
   ]
  },
  {
   "cell_type": "code",
   "execution_count": 5,
   "metadata": {
    "collapsed": false
   },
   "outputs": [
    {
     "name": "stdout",
     "output_type": "stream",
     "text": [
      "ExifTool Version Number         : 10.10\r\n",
      "File Name                       : music.ogg\r\n",
      "Directory                       : .\r\n",
      "File Size                       : 22 kB\r\n",
      "File Modification Date/Time     : 2016:12:14 02:25:20+03:00\r\n",
      "File Access Date/Time           : 2016:12:14 23:33:50+03:00\r\n",
      "File Inode Change Date/Time     : 2016:12:14 23:37:53+03:00\r\n",
      "File Permissions                : rw-rw-r--\r\n",
      "File Type                       : OGG\r\n",
      "File Type Extension             : ogg\r\n",
      "MIME Type                       : audio/x-ogg\r\n",
      "Vorbis Version                  : 0\r\n",
      "Audio Channels                  : 1\r\n",
      "Sample Rate                     : 8000\r\n",
      "Nominal Bitrate                 : 28 kbps\r\n",
      "Vendor                          : Xiph.Org libVorbis I 20070622\r\n",
      "Duration                        : 6.39 s (approx)\r\n"
     ]
    }
   ],
   "source": [
    "! exiftool music.ogg"
   ]
  },
  {
   "cell_type": "code",
   "execution_count": 6,
   "metadata": {
    "collapsed": false
   },
   "outputs": [
    {
     "name": "stdout",
     "output_type": "stream",
     "text": [
      "ExifTool Version Number         : 10.10\r\n",
      "File Name                       : music.wav\r\n",
      "Directory                       : .\r\n",
      "File Size                       : 196 kB\r\n",
      "File Modification Date/Time     : 2016:12:14 02:25:20+03:00\r\n",
      "File Access Date/Time           : 2016:12:14 23:34:15+03:00\r\n",
      "File Inode Change Date/Time     : 2016:12:14 23:38:00+03:00\r\n",
      "File Permissions                : rw-rw-r--\r\n",
      "File Type                       : WAV\r\n",
      "File Type Extension             : wav\r\n",
      "MIME Type                       : audio/x-wav\r\n",
      "Encoding                        : Microsoft PCM\r\n",
      "Num Channels                    : 1\r\n",
      "Sample Rate                     : 8000\r\n",
      "Avg Bytes Per Sec               : 16000\r\n",
      "Bits Per Sample                 : 16\r\n",
      "Software                        : Lavf57.36.100\r\n",
      "Duration                        : 12.54 s\r\n"
     ]
    }
   ],
   "source": [
    "! exiftool music.wav"
   ]
  },
  {
   "cell_type": "code",
   "execution_count": 7,
   "metadata": {
    "collapsed": false
   },
   "outputs": [
    {
     "name": "stdout",
     "output_type": "stream",
     "text": [
      "ExifTool Version Number         : 10.10\r\n",
      "File Name                       : video.mp4\r\n",
      "Directory                       : .\r\n",
      "File Size                       : 7.3 MB\r\n",
      "File Modification Date/Time     : 2016:07:14 04:36:26+03:00\r\n",
      "File Access Date/Time           : 2016:12:14 23:47:46+03:00\r\n",
      "File Inode Change Date/Time     : 2016:12:14 23:47:52+03:00\r\n",
      "File Permissions                : rwxrwxrwx\r\n",
      "File Type                       : MP4\r\n",
      "File Type Extension             : mp4\r\n",
      "MIME Type                       : video/mp4\r\n",
      "Major Brand                     : Unknown (dash)\r\n",
      "Minor Version                   : 0.0.0\r\n",
      "Compatible Brands               : iso6, avc1, mp41\r\n",
      "Movie Header Version            : 0\r\n",
      "Create Date                     : 2013:11:05 19:34:07\r\n",
      "Modify Date                     : 2013:11:05 19:34:07\r\n",
      "Time Scale                      : 90000\r\n",
      "Duration                        : 0:03:04\r\n",
      "Preferred Rate                  : 1\r\n",
      "Preferred Volume                : 100.00%\r\n",
      "Preview Time                    : 0 s\r\n",
      "Preview Duration                : 0 s\r\n",
      "Poster Time                     : 0 s\r\n",
      "Selection Time                  : 0 s\r\n",
      "Selection Duration              : 0 s\r\n",
      "Current Time                    : 0 s\r\n",
      "Next Track ID                   : 2\r\n",
      "Track Header Version            : 0\r\n",
      "Track Create Date               : 2013:11:05 19:34:07\r\n",
      "Track Modify Date               : 2013:11:05 19:34:07\r\n",
      "Track ID                        : 1\r\n",
      "Track Duration                  : 0:03:04\r\n",
      "Track Layer                     : 0\r\n",
      "Track Volume                    : 0.00%\r\n",
      "Matrix Structure                : 1 0 0 0 1 0 0 0 1\r\n",
      "Image Width                     : 576\r\n",
      "Image Height                    : 480\r\n",
      "Media Header Version            : 0\r\n",
      "Media Create Date               : 2013:11:05 19:34:07\r\n",
      "Media Modify Date               : 2013:11:05 19:34:07\r\n",
      "Media Time Scale                : 90000\r\n",
      "Media Duration                  : 0:03:04\r\n",
      "Media Language Code             : und\r\n",
      "Handler Type                    : Video Track\r\n",
      "Handler Description             : VideoHandler\r\n",
      "Compressor ID                   : avc1\r\n",
      "Source Image Width              : 576\r\n",
      "Source Image Height             : 480\r\n",
      "X Resolution                    : 72\r\n",
      "Y Resolution                    : 72\r\n",
      "Bit Depth                       : 24\r\n",
      "Graphics Mode                   : srcCopy\r\n",
      "Op Color                        : 0 0 0\r\n",
      "Movie Data Size                 : 98183\r\n",
      "Movie Data Offset               : 7577773\r\n",
      "Avg Bitrate                     : 331 kbps\r\n",
      "Image Size                      : 576x480\r\n",
      "Megapixels                      : 0.276\r\n",
      "Rotation                        : 0\r\n"
     ]
    }
   ],
   "source": [
    "! exiftool video.mp4"
   ]
  },
  {
   "cell_type": "markdown",
   "metadata": {},
   "source": [
    "## ANALİZ :"
   ]
  },
  {
   "cell_type": "markdown",
   "metadata": {},
   "source": [
    "## KAYNAKLAR :"
   ]
  }
 ],
 "metadata": {
  "anaconda-cloud": {},
  "celltoolbar": "Raw Cell Format",
  "kernelspec": {
   "display_name": "Python [default]",
   "language": "python",
   "name": "python3"
  },
  "language_info": {
   "codemirror_mode": {
    "name": "ipython",
    "version": 3
   },
   "file_extension": ".py",
   "mimetype": "text/x-python",
   "name": "python",
   "nbconvert_exporter": "python",
   "pygments_lexer": "ipython3",
   "version": "3.5.2"
  }
 },
 "nbformat": 4,
 "nbformat_minor": 1
}
