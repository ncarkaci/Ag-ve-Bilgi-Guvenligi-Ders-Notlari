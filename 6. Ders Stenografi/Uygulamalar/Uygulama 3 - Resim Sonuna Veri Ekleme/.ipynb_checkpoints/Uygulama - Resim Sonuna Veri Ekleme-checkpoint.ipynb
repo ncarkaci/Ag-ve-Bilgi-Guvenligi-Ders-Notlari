{
 "cells": [
  {
   "cell_type": "markdown",
   "metadata": {},
   "source": [
    "## AMAÇ :"
   ]
  },
  {
   "cell_type": "markdown",
   "metadata": {},
   "source": [
    "Bu uygulamanın amacı kişiye resim dosyası sonuna mesajın ya da dosyanın data olarak eklenmesi göstermektir."
   ]
  },
  {
   "cell_type": "markdown",
   "metadata": {},
   "source": [
    "## SÜRE : "
   ]
  },
  {
   "cell_type": "markdown",
   "metadata": {},
   "source": [
    "5 dakika"
   ]
  },
  {
   "cell_type": "markdown",
   "metadata": {},
   "source": [
    "## ÖNBİLGİ :"
   ]
  },
  {
   "cell_type": "markdown",
   "metadata": {},
   "source": [
    "Çalıştırılabilir dosyalar son kısımlarında .... (tamamla eksik)"
   ]
  },
  {
   "cell_type": "markdown",
   "metadata": {},
   "source": [
    "## UYGULAMA :"
   ]
  },
  {
   "cell_type": "markdown",
   "metadata": {},
   "source": [
    "### A. Uygulama öncesi yapılacaklar :"
   ]
  },
  {
   "cell_type": "markdown",
   "metadata": {},
   "source": [
    "sudo apt-get install strings, xxd, diff"
   ]
  },
  {
   "cell_type": "markdown",
   "metadata": {},
   "source": [
    "### B. Uygulamanın Yapılışı:"
   ]
  },
  {
   "cell_type": "markdown",
   "metadata": {},
   "source": [
    "#### a. Aşağıda tanımlı komutları kullanarak resim dosyasının sonuna veri ekleyin."
   ]
  },
  {
   "cell_type": "code",
   "execution_count": 1,
   "metadata": {
    "collapsed": false
   },
   "outputs": [],
   "source": [
    "! cp original.jpeg clone.jpeg"
   ]
  },
  {
   "cell_type": "code",
   "execution_count": 2,
   "metadata": {
    "collapsed": false
   },
   "outputs": [
    {
     "name": "stdout",
     "output_type": "stream",
     "text": [
      "clone.jpeg: JPEG image data, JFIF standard 1.01, aspect ratio, density 1x1, segment length 16, baseline, precision 8, 16x16, frames 3\r\n"
     ]
    }
   ],
   "source": [
    "! file clone.jpeg"
   ]
  },
  {
   "cell_type": "code",
   "execution_count": 3,
   "metadata": {
    "collapsed": false
   },
   "outputs": [
    {
     "name": "stdout",
     "output_type": "stream",
     "text": [
      "-rw-rw-r-- 1 computer computer 498 Ara 14 18:37 clone.jpeg\r\n"
     ]
    }
   ],
   "source": [
    "! ls -l clone.jpeg"
   ]
  },
  {
   "cell_type": "code",
   "execution_count": 4,
   "metadata": {
    "collapsed": false
   },
   "outputs": [],
   "source": [
    "! echo \"Gizli bilgi\" >> clone.jpeg"
   ]
  },
  {
   "cell_type": "code",
   "execution_count": 5,
   "metadata": {
    "collapsed": false
   },
   "outputs": [
    {
     "name": "stdout",
     "output_type": "stream",
     "text": [
      "-rw-rw-r-- 1 computer computer 510 Ara 14 18:43 clone.jpeg\r\n"
     ]
    }
   ],
   "source": [
    "! ls -l clone.jpeg"
   ]
  },
  {
   "cell_type": "code",
   "execution_count": 6,
   "metadata": {
    "collapsed": false
   },
   "outputs": [
    {
     "name": "stdout",
     "output_type": "stream",
     "text": [
      "clone.jpeg: JPEG image data, JFIF standard 1.01, aspect ratio, density 1x1, segment length 16, baseline, precision 8, 16x16, frames 3\r\n"
     ]
    }
   ],
   "source": [
    "! file clone.jpeg"
   ]
  },
  {
   "cell_type": "code",
   "execution_count": 8,
   "metadata": {
    "collapsed": false
   },
   "outputs": [
    {
     "name": "stdout",
     "output_type": "stream",
     "text": [
      "JFIF\r\n",
      "4,$&1'\r\n",
      "-=-157:::#\r\n",
      "?D?8C(-.7\r\n",
      "%7757,777757-778777-777777557-+77+777-7++.+75-.++77\r\n",
      "!'AQ\r\n",
      "9I?X\r\n",
      "U:zv\r\n",
      "o3C~d\r\n",
      "Gizli bilgi\r\n"
     ]
    }
   ],
   "source": [
    "! strings clone.jpeg"
   ]
  },
  {
   "cell_type": "code",
   "execution_count": 67,
   "metadata": {
    "collapsed": false
   },
   "outputs": [
    {
     "name": "stdout",
     "output_type": "stream",
     "text": [
      "00000000: ffd8 ffe0 0010 4a46 4946 0001 0100 0001  ......JFIF......\r\n",
      "00000010: 0001 0000 ffdb 0084 0009 0607 0101 0109  ................\r\n",
      "00000020: 0101 010a 0a09 010d 160f 010c 0c01 0f14  ................\r\n",
      "00000030: 1510 1620 1d16 2220 1d1f 1f24 1c34 2c24  ... ..\" ...$.4,$\r\n",
      "00000040: 2631 271f 1f2d 3d2d 3135 373a 3a3a 231f  &1'..-=-157:::#.\r\n",
      "00000050: 3f44 3f38 4328 2d2e 3701 0a0a 0a01 0c0d  ?D?8C(-.7.......\r\n",
      "00000060: 1a0f 0f1a 3725 1f25 3737 3537 2c37 3737  ....7%.%7757,777\r\n",
      "00000070: 3735 372d 3737 3837 3737 2d37 3737 3737  757-778777-77777\r\n",
      "00000080: 3735 3537 2d2b 3737 2b37 3737 2d37 2b2b  7557-+77+777-7++\r\n",
      "00000090: 2e2b 3735 2d2e 2b2b 3737 ffc0 0011 0800  .+75-.++77......\r\n",
      "000000a0: 1000 1003 0111 0002 1101 0311 01ff c400  ................\r\n",
      "000000b0: 1500 0101 0000 0000 0000 0000 0000 0000  ................\r\n",
      "000000c0: 0000 0304 ffc4 0026 1000 0103 0302 0505  .......&........\r\n",
      "000000d0: 0000 0000 0000 0000 0001 0206 0703 0811  ................\r\n",
      "000000e0: 0009 0412 1731 6105 2127 4151 ffc4 0017  .....1a.!'AQ....\r\n",
      "000000f0: 0100 0301 0000 0000 0000 0000 0000 0000  ................\r\n",
      "00000100: 0001 0204 06ff c400 2411 0001 0301 0705  ........$.......\r\n",
      "00000110: 0000 0000 0000 0000 0000 0102 0311 0004  ................\r\n",
      "00000120: 0608 1221 3141 0507 b1c1 d1ff da00 0c03  ...!1A..........\r\n",
      "00000130: 0100 0211 0311 003f 00a7 d2de 7b9e df0d  .......?....{...\r\n",
      "00000140: da26 0e87 ee4e 9708 242e 72c2 0622 a4a4  .&...N..$.r..\"..\r\n",
      "00000150: a709 5280 3949 3f58 d409 7aff 00ad 500c  ..R.9I?X..z...P.\r\n",
      "00000160: 56a5 eb06 156c cc67 5a09 889d 4fda 3e25  V....l.gZ...O.>%\r\n",
      "00000170: efbb ada3 4fc2 37b9 b7f0 25ac a05c 74d5  ....O.7...%..\\t.\r\n",
      "00000180: 15d1 0169 f052 9ec7 40bd dc24 1855 3a7a  ...i.R..@..$.U:z\r\n",
      "00000190: 760f 1f6f 3343 7e64 fb34 1c3b 1b78 bb44  v..o3C~d.4.;.x.D\r\n",
      "000001a0: b88e a9db 742b 4ab2 9985 698f 6a75 2e8e  ....t+J...i.ju..\r\n",
      "000001b0: 0820 8ce0 ac1e c74e 19bc a854 8152 bb6f  . .....N...T.R.o\r\n",
      "000001c0: ec4d a1ac 8b54 6dc1 a244 7bbb fcf5 2e87  .M...Tm..D{.....\r\n",
      "000001d0: 5dc1 3179 4bd1 7f20 d6ad 3751 5103 f7d9  ].1yK.. ..7QQ...\r\n",
      "000001e0: 4740 b37c d475 a61d 470f aca3 2b7e 0d7f  G@.|.u..G...+~..\r\n",
      "000001f0: ffd9 4769 7a6c 6920 6269 6c67 690a       ..Gizli bilgi.\r\n"
     ]
    }
   ],
   "source": [
    "! xxd clone.jpeg"
   ]
  },
  {
   "cell_type": "code",
   "execution_count": 9,
   "metadata": {
    "collapsed": false
   },
   "outputs": [
    {
     "name": "stdout",
     "output_type": "stream",
     "text": [
      "Binary files original.jpeg and clone.jpeg differ\r\n"
     ]
    }
   ],
   "source": [
    "! diff original.jpeg clone.jpeg"
   ]
  },
  {
   "cell_type": "code",
   "execution_count": 11,
   "metadata": {
    "collapsed": false
   },
   "outputs": [],
   "source": [
    "! xxd original.jpeg original.hex"
   ]
  },
  {
   "cell_type": "code",
   "execution_count": 12,
   "metadata": {
    "collapsed": true
   },
   "outputs": [],
   "source": [
    "! xxd clone.jpeg clone.hex"
   ]
  },
  {
   "cell_type": "code",
   "execution_count": 13,
   "metadata": {
    "collapsed": false
   },
   "outputs": [
    {
     "name": "stdout",
     "output_type": "stream",
     "text": [
      "32c32\r\n",
      "< 000001f0: ffd9                                     ..\r\n",
      "---\r\n",
      "> 000001f0: ffd9 4769 7a6c 6920 6269 6c67 690a       ..Gizli bilgi.\r\n"
     ]
    }
   ],
   "source": [
    "! diff original.hex clone.hex"
   ]
  },
  {
   "cell_type": "code",
   "execution_count": 18,
   "metadata": {
    "collapsed": false
   },
   "outputs": [
    {
     "name": "stdout",
     "output_type": "stream",
     "text": [
      "music.mp3: Audio file with ID3 version 2.4.0, contains: MPEG ADTS, layer III, v1,  64 kbps, 44.1 kHz, Stereo\r\n"
     ]
    }
   ],
   "source": [
    "! file music.mp3"
   ]
  },
  {
   "cell_type": "code",
   "execution_count": 20,
   "metadata": {
    "collapsed": false
   },
   "outputs": [],
   "source": [
    "! cat music.mp3 >> clone.jpeg"
   ]
  },
  {
   "cell_type": "code",
   "execution_count": 21,
   "metadata": {
    "collapsed": true
   },
   "outputs": [],
   "source": [
    "! xxd clone.jpeg clone_mp3.hex"
   ]
  },
  {
   "cell_type": "code",
   "execution_count": 22,
   "metadata": {
    "collapsed": true
   },
   "outputs": [],
   "source": [
    "! diff original.hex clone_mp3.hex > out.txt"
   ]
  },
  {
   "cell_type": "markdown",
   "metadata": {},
   "source": [
    "## ANALİZ :"
   ]
  },
  {
   "cell_type": "markdown",
   "metadata": {},
   "source": [
    "## KAYNAKLAR :"
   ]
  }
 ],
 "metadata": {
  "anaconda-cloud": {},
  "celltoolbar": "Raw Cell Format",
  "kernelspec": {
   "display_name": "Python [default]",
   "language": "python",
   "name": "python3"
  },
  "language_info": {
   "codemirror_mode": {
    "name": "ipython",
    "version": 3
   },
   "file_extension": ".py",
   "mimetype": "text/x-python",
   "name": "python",
   "nbconvert_exporter": "python",
   "pygments_lexer": "ipython3",
   "version": "3.5.2"
  }
 },
 "nbformat": 4,
 "nbformat_minor": 1
}
